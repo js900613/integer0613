{
 "cells": [
  {
   "cell_type": "code",
   "execution_count": 1,
   "metadata": {},
   "outputs": [],
   "source": [
    "import numpy as np"
   ]
  },
  {
   "cell_type": "code",
   "execution_count": 2,
   "metadata": {},
   "outputs": [],
   "source": [
    "score=np.loadtxt(\"python_score.csv\", delimiter=',', dtype='float64')"
   ]
  },
  {
   "cell_type": "code",
   "execution_count": 3,
   "metadata": {},
   "outputs": [
    {
     "data": {
      "text/plain": [
       "array([[ 3.,  4.,  1.,  1.,  2.,  2.,  1.,  4.,  4.,  2.,  4.,  3.,  3.,\n",
       "         3.,  2.,  2.,  1.,  2.,  2.,  2.,  9.,  5.],\n",
       "       [ 3.,  4.,  1.,  1.,  2.,  4.,  1.,  4.,  4.,  2.,  3.,  3.,  3.,\n",
       "         2.,  2.,  2.,  1.,  2.,  2.,  1.,  4.,  7.],\n",
       "       [ 4.,  4.,  1.,  1.,  3.,  2.,  1.,  4.,  4.,  2.,  4.,  3.,  3.,\n",
       "         3.,  4.,  2.,  1.,  2.,  4.,  2., 10.,  8.],\n",
       "       [ 3.,  4.,  1.,  1.,  2.,  4.,  1.,  4.,  4.,  2.,  4.,  2.,  3.,\n",
       "         3.,  2.,  1.,  1.,  2.,  2.,  4.,  9.,  5.],\n",
       "       [ 3.,  4.,  1.,  1.,  4.,  2.,  1.,  4.,  4.,  2.,  2.,  3.,  3.,\n",
       "         3.,  2.,  1.,  1.,  2.,  2.,  4.,  6.,  7.],\n",
       "       [ 3.,  3.,  1.,  1.,  2.,  2.,  1.,  4.,  4.,  2.,  4.,  3.,  3.,\n",
       "         3.,  2.,  2.,  1.,  2.,  2.,  2.,  8.,  8.],\n",
       "       [ 3.,  4.,  1.,  1.,  2.,  2.,  1.,  4.,  4.,  2.,  4.,  3.,  3.,\n",
       "         1.,  2.,  2.,  1.,  2.,  2.,  3., 10.,  6.],\n",
       "       [ 3.,  4.,  1.,  1.,  4.,  2.,  1.,  4.,  4.,  2.,  4.,  3.,  3.,\n",
       "         3.,  2.,  2.,  1.,  2.,  2.,  2.,  7.,  8.],\n",
       "       [ 3.,  2.,  1.,  2.,  4.,  4.,  1.,  4.,  4.,  2.,  4.,  3.,  3.,\n",
       "         3.,  2.,  2.,  2.,  4.,  2.,  1.,  6.,  9.],\n",
       "       [ 3.,  2.,  1.,  1.,  2.,  2.,  1.,  4.,  2.,  2.,  4.,  3.,  3.,\n",
       "         3.,  2.,  2.,  1.,  2.,  2.,  3.,  9., 10.]])"
      ]
     },
     "execution_count": 3,
     "metadata": {},
     "output_type": "execute_result"
    }
   ],
   "source": [
    "dset=score[:,:10].T\n",
    "dset"
   ]
  },
  {
   "cell_type": "code",
   "execution_count": 4,
   "metadata": {},
   "outputs": [
    {
     "data": {
      "text/plain": [
       "array([ 3.,  4.,  1.,  1.,  2.,  2.,  1.,  4.,  4.,  2.,  4.,  3.,  3.,\n",
       "        3.,  2.,  2.,  1.,  2.,  2.,  2., 10., 10.])"
      ]
     },
     "execution_count": 4,
     "metadata": {},
     "output_type": "execute_result"
    }
   ],
   "source": [
    "answer=score[:22,10]\n",
    "answer"
   ]
  },
  {
   "cell_type": "code",
   "execution_count": 5,
   "metadata": {},
   "outputs": [
    {
     "data": {
      "text/plain": [
       "array([[ True,  True,  True,  True,  True,  True,  True,  True,  True,\n",
       "         True,  True,  True,  True,  True,  True,  True,  True,  True,\n",
       "         True,  True, False, False],\n",
       "       [ True,  True,  True,  True,  True, False,  True,  True,  True,\n",
       "         True, False,  True,  True, False,  True,  True,  True,  True,\n",
       "         True, False, False, False],\n",
       "       [False,  True,  True,  True, False,  True,  True,  True,  True,\n",
       "         True,  True,  True,  True,  True, False,  True,  True,  True,\n",
       "        False,  True,  True, False],\n",
       "       [ True,  True,  True,  True,  True, False,  True,  True,  True,\n",
       "         True,  True, False,  True,  True,  True, False,  True,  True,\n",
       "         True, False, False, False],\n",
       "       [ True,  True,  True,  True, False,  True,  True,  True,  True,\n",
       "         True, False,  True,  True,  True,  True, False,  True,  True,\n",
       "         True, False, False, False],\n",
       "       [ True, False,  True,  True,  True,  True,  True,  True,  True,\n",
       "         True,  True,  True,  True,  True,  True,  True,  True,  True,\n",
       "         True,  True, False, False],\n",
       "       [ True,  True,  True,  True,  True,  True,  True,  True,  True,\n",
       "         True,  True,  True,  True, False,  True,  True,  True,  True,\n",
       "         True, False,  True, False],\n",
       "       [ True,  True,  True,  True, False,  True,  True,  True,  True,\n",
       "         True,  True,  True,  True,  True,  True,  True,  True,  True,\n",
       "         True,  True, False, False],\n",
       "       [ True, False,  True, False, False, False,  True,  True,  True,\n",
       "         True,  True,  True,  True,  True,  True,  True, False, False,\n",
       "         True, False, False, False],\n",
       "       [ True, False,  True,  True,  True,  True,  True,  True, False,\n",
       "         True,  True,  True,  True,  True,  True,  True,  True,  True,\n",
       "         True, False, False,  True]])"
      ]
     },
     "execution_count": 5,
     "metadata": {},
     "output_type": "execute_result"
    }
   ],
   "source": [
    "bool_answer=(answer==dset)\n",
    "bool_answer"
   ]
  },
  {
   "cell_type": "code",
   "execution_count": 6,
   "metadata": {},
   "outputs": [
    {
     "data": {
      "text/plain": [
       "array([[1, 1, 1, 1, 1, 1, 1, 1, 1, 1, 1, 1, 1, 1, 1, 1, 1, 1, 1, 1, 0, 0],\n",
       "       [1, 1, 1, 1, 1, 0, 1, 1, 1, 1, 0, 1, 1, 0, 1, 1, 1, 1, 1, 0, 0, 0],\n",
       "       [0, 1, 1, 1, 0, 1, 1, 1, 1, 1, 1, 1, 1, 1, 0, 1, 1, 1, 0, 1, 1, 0],\n",
       "       [1, 1, 1, 1, 1, 0, 1, 1, 1, 1, 1, 0, 1, 1, 1, 0, 1, 1, 1, 0, 0, 0],\n",
       "       [1, 1, 1, 1, 0, 1, 1, 1, 1, 1, 0, 1, 1, 1, 1, 0, 1, 1, 1, 0, 0, 0],\n",
       "       [1, 0, 1, 1, 1, 1, 1, 1, 1, 1, 1, 1, 1, 1, 1, 1, 1, 1, 1, 1, 0, 0],\n",
       "       [1, 1, 1, 1, 1, 1, 1, 1, 1, 1, 1, 1, 1, 0, 1, 1, 1, 1, 1, 0, 1, 0],\n",
       "       [1, 1, 1, 1, 0, 1, 1, 1, 1, 1, 1, 1, 1, 1, 1, 1, 1, 1, 1, 1, 0, 0],\n",
       "       [1, 0, 1, 0, 0, 0, 1, 1, 1, 1, 1, 1, 1, 1, 1, 1, 0, 0, 1, 0, 0, 0],\n",
       "       [1, 0, 1, 1, 1, 1, 1, 1, 0, 1, 1, 1, 1, 1, 1, 1, 1, 1, 1, 0, 0, 1]])"
      ]
     },
     "execution_count": 6,
     "metadata": {},
     "output_type": "execute_result"
    }
   ],
   "source": [
    "bool_answer=bool_answer.dot(1)\n",
    "bool_answer"
   ]
  },
  {
   "cell_type": "code",
   "execution_count": 7,
   "metadata": {},
   "outputs": [
    {
     "data": {
      "text/plain": [
       "array([[ 1,  1,  1,  1,  1,  1,  1,  1,  1,  1,  1,  1,  1,  1,  1,  1,\n",
       "         1,  1,  1,  1,  9,  5],\n",
       "       [ 1,  1,  1,  1,  1,  0,  1,  1,  1,  1,  0,  1,  1,  0,  1,  1,\n",
       "         1,  1,  1,  0,  4,  7],\n",
       "       [ 0,  1,  1,  1,  0,  1,  1,  1,  1,  1,  1,  1,  1,  1,  0,  1,\n",
       "         1,  1,  0,  1, 10,  8],\n",
       "       [ 1,  1,  1,  1,  1,  0,  1,  1,  1,  1,  1,  0,  1,  1,  1,  0,\n",
       "         1,  1,  1,  0,  9,  5],\n",
       "       [ 1,  1,  1,  1,  0,  1,  1,  1,  1,  1,  0,  1,  1,  1,  1,  0,\n",
       "         1,  1,  1,  0,  6,  7],\n",
       "       [ 1,  0,  1,  1,  1,  1,  1,  1,  1,  1,  1,  1,  1,  1,  1,  1,\n",
       "         1,  1,  1,  1,  8,  8],\n",
       "       [ 1,  1,  1,  1,  1,  1,  1,  1,  1,  1,  1,  1,  1,  0,  1,  1,\n",
       "         1,  1,  1,  0, 10,  6],\n",
       "       [ 1,  1,  1,  1,  0,  1,  1,  1,  1,  1,  1,  1,  1,  1,  1,  1,\n",
       "         1,  1,  1,  1,  7,  8],\n",
       "       [ 1,  0,  1,  0,  0,  0,  1,  1,  1,  1,  1,  1,  1,  1,  1,  1,\n",
       "         0,  0,  1,  0,  6,  9],\n",
       "       [ 1,  0,  1,  1,  1,  1,  1,  1,  0,  1,  1,  1,  1,  1,  1,  1,\n",
       "         1,  1,  1,  0,  9, 10]])"
      ]
     },
     "execution_count": 7,
     "metadata": {},
     "output_type": "execute_result"
    }
   ],
   "source": [
    "bool_answer[:,20:]=dset[:,20:]\n",
    "bool_answer"
   ]
  },
  {
   "cell_type": "code",
   "execution_count": 8,
   "metadata": {},
   "outputs": [
    {
     "data": {
      "text/plain": [
       "array([[ 1,  1,  1,  1,  1,  1,  1,  1,  1,  1,  1,  1,  1,  1,  1,  1,\n",
       "         1,  1,  1,  1,  9,  5],\n",
       "       [ 1,  1,  1,  1,  1,  0,  1,  1,  1,  1,  0,  1,  1,  0,  1,  1,\n",
       "         1,  1,  1,  0,  4,  7],\n",
       "       [ 0,  1,  1,  1,  0,  1,  1,  1,  1,  1,  1,  1,  1,  1,  0,  1,\n",
       "         1,  1,  0,  1, 10,  8],\n",
       "       [ 1,  1,  1,  1,  1,  0,  1,  1,  1,  1,  1,  0,  1,  1,  1,  0,\n",
       "         1,  1,  1,  0,  9,  5],\n",
       "       [ 1,  1,  1,  1,  0,  1,  1,  1,  1,  1,  0,  1,  1,  1,  1,  0,\n",
       "         1,  1,  1,  0,  6,  7],\n",
       "       [ 1,  0,  1,  1,  1,  1,  1,  1,  1,  1,  1,  1,  1,  1,  1,  1,\n",
       "         1,  1,  1,  1,  8,  8],\n",
       "       [ 1,  1,  1,  1,  1,  1,  1,  1,  1,  1,  1,  1,  1,  0,  1,  1,\n",
       "         1,  1,  1,  0, 10,  6],\n",
       "       [ 1,  1,  1,  1,  0,  1,  1,  1,  1,  1,  1,  1,  1,  1,  1,  1,\n",
       "         1,  1,  1,  1,  7,  8],\n",
       "       [ 1,  0,  1,  0,  0,  0,  1,  1,  1,  1,  1,  1,  1,  1,  1,  1,\n",
       "         0,  0,  1,  0,  6,  9],\n",
       "       [ 1,  0,  1,  1,  1,  1,  1,  1,  0,  1,  1,  1,  1,  1,  1,  1,\n",
       "         1,  1,  1,  0,  9, 10]])"
      ]
     },
     "execution_count": 8,
     "metadata": {},
     "output_type": "execute_result"
    }
   ],
   "source": [
    "scoreset=bool_answer\n",
    "scoreset"
   ]
  },
  {
   "cell_type": "code",
   "execution_count": 9,
   "metadata": {},
   "outputs": [
    {
     "data": {
      "text/plain": [
       "[4, 4, 4, 4, 4, 4, 4, 4, 4, 4, 4, 4, 4, 4, 4, 4, 4, 4, 4, 4, 1, 1]"
      ]
     },
     "execution_count": 9,
     "metadata": {},
     "output_type": "execute_result"
    }
   ],
   "source": [
    "points=[4 for i in range(20)]\n",
    "points.append(1)\n",
    "points.append(1)\n",
    "points"
   ]
  },
  {
   "cell_type": "code",
   "execution_count": 10,
   "metadata": {},
   "outputs": [
    {
     "data": {
      "text/plain": [
       "array([94, 75, 82, 78, 77, 92, 88, 91, 67, 87])"
      ]
     },
     "execution_count": 10,
     "metadata": {},
     "output_type": "execute_result"
    }
   ],
   "source": [
    "np.dot(scoreset,points)"
   ]
  }
 ],
 "metadata": {
  "kernelspec": {
   "display_name": "Python 3",
   "language": "python",
   "name": "python3"
  },
  "language_info": {
   "codemirror_mode": {
    "name": "ipython",
    "version": 3
   },
   "file_extension": ".py",
   "mimetype": "text/x-python",
   "name": "python",
   "nbconvert_exporter": "python",
   "pygments_lexer": "ipython3",
   "version": "3.6.4"
  }
 },
 "nbformat": 4,
 "nbformat_minor": 2
}
