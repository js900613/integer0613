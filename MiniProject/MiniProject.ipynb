{
 "cells": [
  {
   "cell_type": "markdown",
   "metadata": {},
   "source": [
    "# Hou-Stock!\n",
    "\n",
    "깃허브에서 영감을 얻어 사용자가 직접 데이터를 만들어가는 것을 만들고 싶었습니다.\n",
    "\n",
    "1. 이용자가 직접 데이터를 입력한다.\n",
    "\n",
    "2. 전체 데이터에 대한 정보를 제공한다.\n",
    "\n",
    "\n",
    "나아가 실제로 상업화까지 생각을 해봤습니다.\n",
    "\n",
    "1. 전체 데이터에 대한 정보를 제공할 때마다 짧은 광고영상\n",
    "\n",
    "2. 재구매 시기에 맞춰 적절한 상품 광고"
   ]
  },
  {
   "cell_type": "code",
   "execution_count": 1,
   "metadata": {},
   "outputs": [],
   "source": [
    "import pandas as pd\n",
    "import numpy as np\n",
    "import datetime as dt\n",
    "from pandas import DataFrame, Series\n",
    "from datetime import timedelta"
   ]
  },
  {
   "cell_type": "code",
   "execution_count": 2,
   "metadata": {},
   "outputs": [],
   "source": [
    "#새로운 입력 데이터에서 오늘부터 구매일까지의 경과일수\n",
    "def expirationTime():\n",
    "    targetDateInt=(int)(buyday)\n",
    "    tyear=(int)(targetDateInt/10000)\n",
    "    tmonth=(int)(targetDateInt%10000/100)\n",
    "    tday=(int)(targetDateInt%100)\n",
    "    targetDate=dt.date(year=tyear,month=tmonth,day=tday)\n",
    "    return (todayDate-targetDate).days"
   ]
  },
  {
   "cell_type": "code",
   "execution_count": 3,
   "metadata": {},
   "outputs": [],
   "source": [
    "#전체 자료 경과일수에 대한 동기화 // 지금은 데이터가 작아서 상관없지만 커질경우..문제\n",
    "def expirationTime2(itemNum):\n",
    "    targetDateInt=(int)(data.iloc[itemNum,5])\n",
    "    tyear=(int)(targetDateInt/10000)\n",
    "    tmonth=(int)(targetDateInt%10000/100)\n",
    "    tday=(int)(targetDateInt%100)\n",
    "    targetDate=dt.date(year=tyear,month=tmonth,day=tday)\n",
    "    return (todayDate-targetDate).days"
   ]
  },
  {
   "cell_type": "code",
   "execution_count": 4,
   "metadata": {},
   "outputs": [],
   "source": [
    "#중복 값 제거 후 목록\n",
    "def func(what):\n",
    "    lst=data[what]\n",
    "    x=1\n",
    "    d={}\n",
    "    while x<len(lst):\n",
    "        k=lst[x]\n",
    "        d[k]=d.get(k,0)+1\n",
    "        x+=1\n",
    "    keylst=list(d.keys())\n",
    "    print ('다음 중 원하는 것을 입력하거나, 새로 입력하시오', keylst)"
   ]
  },
  {
   "cell_type": "markdown",
   "metadata": {},
   "source": []
  },
  {
   "cell_type": "code",
   "execution_count": 5,
   "metadata": {},
   "outputs": [
    {
     "data": {
      "text/html": [
       "<div>\n",
       "<style scoped>\n",
       "    .dataframe tbody tr th:only-of-type {\n",
       "        vertical-align: middle;\n",
       "    }\n",
       "\n",
       "    .dataframe tbody tr th {\n",
       "        vertical-align: top;\n",
       "    }\n",
       "\n",
       "    .dataframe thead th {\n",
       "        text-align: right;\n",
       "    }\n",
       "</style>\n",
       "<table border=\"1\" class=\"dataframe\">\n",
       "  <thead>\n",
       "    <tr style=\"text-align: right;\">\n",
       "      <th></th>\n",
       "      <th>ID</th>\n",
       "      <th>위치</th>\n",
       "      <th>대분류</th>\n",
       "      <th>소분류</th>\n",
       "      <th>가격</th>\n",
       "      <th>구입시기</th>\n",
       "      <th>구입 후 경과기간</th>\n",
       "    </tr>\n",
       "  </thead>\n",
       "  <tbody>\n",
       "    <tr>\n",
       "      <th>0</th>\n",
       "      <td>철수네</td>\n",
       "      <td>주방</td>\n",
       "      <td>김치</td>\n",
       "      <td>배추김치</td>\n",
       "      <td>5000</td>\n",
       "      <td>20180601</td>\n",
       "      <td>25</td>\n",
       "    </tr>\n",
       "    <tr>\n",
       "      <th>1</th>\n",
       "      <td>철수네</td>\n",
       "      <td>주방</td>\n",
       "      <td>김치</td>\n",
       "      <td>총각김치</td>\n",
       "      <td>3000</td>\n",
       "      <td>20180302</td>\n",
       "      <td>116</td>\n",
       "    </tr>\n",
       "    <tr>\n",
       "      <th>2</th>\n",
       "      <td>철수네</td>\n",
       "      <td>욕실</td>\n",
       "      <td>세제</td>\n",
       "      <td>총각김치</td>\n",
       "      <td>3000</td>\n",
       "      <td>20180302</td>\n",
       "      <td>116</td>\n",
       "    </tr>\n",
       "    <tr>\n",
       "      <th>3</th>\n",
       "      <td>영희네</td>\n",
       "      <td>주방</td>\n",
       "      <td>김치</td>\n",
       "      <td>배추김치</td>\n",
       "      <td>8000</td>\n",
       "      <td>20180515</td>\n",
       "      <td>42</td>\n",
       "    </tr>\n",
       "    <tr>\n",
       "      <th>4</th>\n",
       "      <td>철수네</td>\n",
       "      <td>베란다</td>\n",
       "      <td>세제</td>\n",
       "      <td>표백제</td>\n",
       "      <td>15000</td>\n",
       "      <td>20180101</td>\n",
       "      <td>176</td>\n",
       "    </tr>\n",
       "    <tr>\n",
       "      <th>5</th>\n",
       "      <td>맹구네</td>\n",
       "      <td>욕실</td>\n",
       "      <td>바디/헤어</td>\n",
       "      <td>샴푸</td>\n",
       "      <td>12000</td>\n",
       "      <td>20180501</td>\n",
       "      <td>56</td>\n",
       "    </tr>\n",
       "    <tr>\n",
       "      <th>6</th>\n",
       "      <td>효상이네</td>\n",
       "      <td>베란다</td>\n",
       "      <td>의류</td>\n",
       "      <td>양말</td>\n",
       "      <td>2000</td>\n",
       "      <td>20180411</td>\n",
       "      <td>76</td>\n",
       "    </tr>\n",
       "  </tbody>\n",
       "</table>\n",
       "</div>"
      ],
      "text/plain": [
       "     ID   위치    대분류   소분류     가격      구입시기  구입 후 경과기간\n",
       "0   철수네   주방     김치  배추김치   5000  20180601         25\n",
       "1   철수네   주방     김치  총각김치   3000  20180302        116\n",
       "2   철수네   욕실     세제  총각김치   3000  20180302        116\n",
       "3   영희네   주방     김치  배추김치   8000  20180515         42\n",
       "4   철수네  베란다     세제   표백제  15000  20180101        176\n",
       "5   맹구네   욕실  바디/헤어    샴푸  12000  20180501         56\n",
       "6  효상이네  베란다     의류    양말   2000  20180411         76"
      ]
     },
     "execution_count": 5,
     "metadata": {},
     "output_type": "execute_result"
    }
   ],
   "source": [
    "#데이터 로드\n",
    "data=pd.read_csv(\"DataSet.csv\",sep=',',index_col=0)\n",
    "\n",
    "#데이터 확인\n",
    "data"
   ]
  },
  {
   "cell_type": "code",
   "execution_count": 6,
   "metadata": {},
   "outputs": [
    {
     "data": {
      "text/plain": [
       "datetime.date(2018, 6, 26)"
      ]
     },
     "execution_count": 6,
     "metadata": {},
     "output_type": "execute_result"
    }
   ],
   "source": [
    "#오늘의 날짜\n",
    "todayDate=dt.date.today()\n",
    "todayDate"
   ]
  },
  {
   "cell_type": "code",
   "execution_count": 7,
   "metadata": {},
   "outputs": [],
   "source": [
    "#전체 index 갯수\n",
    "indexRange=data.index.size"
   ]
  },
  {
   "cell_type": "code",
   "execution_count": 8,
   "metadata": {},
   "outputs": [],
   "source": [
    "lst=[]\n",
    "for i in range(indexRange):\n",
    "    lst.append(expirationTime2(i))"
   ]
  },
  {
   "cell_type": "code",
   "execution_count": 9,
   "metadata": {},
   "outputs": [
    {
     "data": {
      "text/html": [
       "<div>\n",
       "<style scoped>\n",
       "    .dataframe tbody tr th:only-of-type {\n",
       "        vertical-align: middle;\n",
       "    }\n",
       "\n",
       "    .dataframe tbody tr th {\n",
       "        vertical-align: top;\n",
       "    }\n",
       "\n",
       "    .dataframe thead th {\n",
       "        text-align: right;\n",
       "    }\n",
       "</style>\n",
       "<table border=\"1\" class=\"dataframe\">\n",
       "  <thead>\n",
       "    <tr style=\"text-align: right;\">\n",
       "      <th></th>\n",
       "      <th>ID</th>\n",
       "      <th>위치</th>\n",
       "      <th>대분류</th>\n",
       "      <th>소분류</th>\n",
       "      <th>가격</th>\n",
       "      <th>구입시기</th>\n",
       "      <th>구입 후 경과기간</th>\n",
       "    </tr>\n",
       "  </thead>\n",
       "  <tbody>\n",
       "    <tr>\n",
       "      <th>0</th>\n",
       "      <td>철수네</td>\n",
       "      <td>주방</td>\n",
       "      <td>김치</td>\n",
       "      <td>배추김치</td>\n",
       "      <td>5000</td>\n",
       "      <td>20180601</td>\n",
       "      <td>25</td>\n",
       "    </tr>\n",
       "    <tr>\n",
       "      <th>1</th>\n",
       "      <td>철수네</td>\n",
       "      <td>주방</td>\n",
       "      <td>김치</td>\n",
       "      <td>총각김치</td>\n",
       "      <td>3000</td>\n",
       "      <td>20180302</td>\n",
       "      <td>116</td>\n",
       "    </tr>\n",
       "    <tr>\n",
       "      <th>2</th>\n",
       "      <td>철수네</td>\n",
       "      <td>욕실</td>\n",
       "      <td>세제</td>\n",
       "      <td>총각김치</td>\n",
       "      <td>3000</td>\n",
       "      <td>20180302</td>\n",
       "      <td>116</td>\n",
       "    </tr>\n",
       "    <tr>\n",
       "      <th>3</th>\n",
       "      <td>영희네</td>\n",
       "      <td>주방</td>\n",
       "      <td>김치</td>\n",
       "      <td>배추김치</td>\n",
       "      <td>8000</td>\n",
       "      <td>20180515</td>\n",
       "      <td>42</td>\n",
       "    </tr>\n",
       "    <tr>\n",
       "      <th>4</th>\n",
       "      <td>철수네</td>\n",
       "      <td>베란다</td>\n",
       "      <td>세제</td>\n",
       "      <td>표백제</td>\n",
       "      <td>15000</td>\n",
       "      <td>20180101</td>\n",
       "      <td>176</td>\n",
       "    </tr>\n",
       "    <tr>\n",
       "      <th>5</th>\n",
       "      <td>맹구네</td>\n",
       "      <td>욕실</td>\n",
       "      <td>바디/헤어</td>\n",
       "      <td>샴푸</td>\n",
       "      <td>12000</td>\n",
       "      <td>20180501</td>\n",
       "      <td>56</td>\n",
       "    </tr>\n",
       "    <tr>\n",
       "      <th>6</th>\n",
       "      <td>효상이네</td>\n",
       "      <td>베란다</td>\n",
       "      <td>의류</td>\n",
       "      <td>양말</td>\n",
       "      <td>2000</td>\n",
       "      <td>20180411</td>\n",
       "      <td>76</td>\n",
       "    </tr>\n",
       "  </tbody>\n",
       "</table>\n",
       "</div>"
      ],
      "text/plain": [
       "     ID   위치    대분류   소분류     가격      구입시기  구입 후 경과기간\n",
       "0   철수네   주방     김치  배추김치   5000  20180601         25\n",
       "1   철수네   주방     김치  총각김치   3000  20180302        116\n",
       "2   철수네   욕실     세제  총각김치   3000  20180302        116\n",
       "3   영희네   주방     김치  배추김치   8000  20180515         42\n",
       "4   철수네  베란다     세제   표백제  15000  20180101        176\n",
       "5   맹구네   욕실  바디/헤어    샴푸  12000  20180501         56\n",
       "6  효상이네  베란다     의류    양말   2000  20180411         76"
      ]
     },
     "execution_count": 9,
     "metadata": {},
     "output_type": "execute_result"
    }
   ],
   "source": [
    "data[\"구입 후 경과기간\"]=lst\n",
    "data"
   ]
  },
  {
   "cell_type": "code",
   "execution_count": 10,
   "metadata": {},
   "outputs": [
    {
     "name": "stdout",
     "output_type": "stream",
     "text": [
      "ID를 입력하시오.\n",
      "정식이네\n"
     ]
    }
   ],
   "source": [
    "#ID입력\n",
    "print (\"ID를 입력하시오.\")\n",
    "ID=input()"
   ]
  },
  {
   "cell_type": "code",
   "execution_count": 11,
   "metadata": {},
   "outputs": [
    {
     "name": "stdout",
     "output_type": "stream",
     "text": [
      "다음 중 원하는 것을 입력하거나, 새로 입력하시오 ['주방', '욕실', '베란다']\n",
      "주방\n"
     ]
    }
   ],
   "source": [
    "#장소입력\n",
    "func(\"위치\")\n",
    "place=input()"
   ]
  },
  {
   "cell_type": "code",
   "execution_count": 12,
   "metadata": {},
   "outputs": [
    {
     "name": "stdout",
     "output_type": "stream",
     "text": [
      "다음 중 원하는 것을 입력하거나, 새로 입력하시오 ['김치', '세제', '바디/헤어', '의류']\n",
      "한정식\n"
     ]
    }
   ],
   "source": [
    "#대분류 중복 제거 후 보여주고 입력\n",
    "func(\"대분류\")\n",
    "largeCategory=input()"
   ]
  },
  {
   "cell_type": "code",
   "execution_count": 13,
   "metadata": {},
   "outputs": [
    {
     "name": "stdout",
     "output_type": "stream",
     "text": [
      "다음 중 원하는 것을 입력하거나, 새로 입력하시오 ['총각김치', '배추김치', '표백제', '샴푸', '양말']\n",
      "햇반\n"
     ]
    }
   ],
   "source": [
    "#소분류 중복 제거 후 보여주고 입력\n",
    "func(\"소분류\")\n",
    "smallCategory=input()"
   ]
  },
  {
   "cell_type": "code",
   "execution_count": 14,
   "metadata": {},
   "outputs": [
    {
     "name": "stdout",
     "output_type": "stream",
     "text": [
      "1250\n"
     ]
    }
   ],
   "source": [
    "#가격 입력\n",
    "price=input()"
   ]
  },
  {
   "cell_type": "code",
   "execution_count": 15,
   "metadata": {},
   "outputs": [
    {
     "name": "stdout",
     "output_type": "stream",
     "text": [
      "구입시기를 8자리로 입력하시오. 예)20180101\n",
      "20180313\n",
      "입력하신 날짜는 20180313 입니다.\n"
     ]
    }
   ],
   "source": [
    "#구입시기 입력하도록 하기\n",
    "print (\"구입시기를 8자리로 입력하시오. 예)20180101\")\n",
    "buyday=int(input())\n",
    "if buyday>21000000:\n",
    "    print(\"날짜가 너무 큽니다. 다시 입력 하시오\")\n",
    "    buyday=int(input())\n",
    "elif buyday<20000000:\n",
    "    print(\"날짜가 너무 작습니다. 다시 입력 하시오\")\n",
    "    buyday=int(input())\n",
    "elif expirationTime()<0:\n",
    "    print(\"미래를 입력할 수 없습니다. 다시 입력 하시오\")\n",
    "    buyday=int(input())\n",
    "else :\n",
    "    print('입력하신 날짜는 %d 입니다.'%(buyday))"
   ]
  },
  {
   "cell_type": "code",
   "execution_count": 16,
   "metadata": {},
   "outputs": [
    {
     "data": {
      "text/plain": [
       "array(['정식이네', '주방', '한정식', '햇반', '1250', '20180313', '105'], dtype='<U8')"
      ]
     },
     "execution_count": 16,
     "metadata": {},
     "output_type": "execute_result"
    }
   ],
   "source": [
    "#새로운 데이터 추가\n",
    "newData=np.array([ID,place,largeCategory,smallCategory,price,buyday,expirationTime()])\n",
    "newData"
   ]
  },
  {
   "cell_type": "code",
   "execution_count": 17,
   "metadata": {},
   "outputs": [
    {
     "data": {
      "text/html": [
       "<div>\n",
       "<style scoped>\n",
       "    .dataframe tbody tr th:only-of-type {\n",
       "        vertical-align: middle;\n",
       "    }\n",
       "\n",
       "    .dataframe tbody tr th {\n",
       "        vertical-align: top;\n",
       "    }\n",
       "\n",
       "    .dataframe thead th {\n",
       "        text-align: right;\n",
       "    }\n",
       "</style>\n",
       "<table border=\"1\" class=\"dataframe\">\n",
       "  <thead>\n",
       "    <tr style=\"text-align: right;\">\n",
       "      <th></th>\n",
       "      <th>ID</th>\n",
       "      <th>위치</th>\n",
       "      <th>대분류</th>\n",
       "      <th>소분류</th>\n",
       "      <th>가격</th>\n",
       "      <th>구입시기</th>\n",
       "      <th>구입 후 경과기간</th>\n",
       "    </tr>\n",
       "  </thead>\n",
       "  <tbody>\n",
       "    <tr>\n",
       "      <th>7</th>\n",
       "      <td>정식이네</td>\n",
       "      <td>주방</td>\n",
       "      <td>한정식</td>\n",
       "      <td>햇반</td>\n",
       "      <td>1250</td>\n",
       "      <td>20180313</td>\n",
       "      <td>105</td>\n",
       "    </tr>\n",
       "  </tbody>\n",
       "</table>\n",
       "</div>"
      ],
      "text/plain": [
       "     ID  위치  대분류 소분류    가격      구입시기 구입 후 경과기간\n",
       "7  정식이네  주방  한정식  햇반  1250  20180313       105"
      ]
     },
     "execution_count": 17,
     "metadata": {},
     "output_type": "execute_result"
    }
   ],
   "source": [
    "#데이터를 데이터 프레임으로 변환\n",
    "newDataFix=DataFrame(newData.reshape(1,-1),columns=['ID','위치','대분류','소분류','가격','구입시기','구입 후 경과기간']).rename(index={0:indexRange})\n",
    "newDataFix"
   ]
  },
  {
   "cell_type": "code",
   "execution_count": 18,
   "metadata": {},
   "outputs": [
    {
     "data": {
      "text/html": [
       "<div>\n",
       "<style scoped>\n",
       "    .dataframe tbody tr th:only-of-type {\n",
       "        vertical-align: middle;\n",
       "    }\n",
       "\n",
       "    .dataframe tbody tr th {\n",
       "        vertical-align: top;\n",
       "    }\n",
       "\n",
       "    .dataframe thead th {\n",
       "        text-align: right;\n",
       "    }\n",
       "</style>\n",
       "<table border=\"1\" class=\"dataframe\">\n",
       "  <thead>\n",
       "    <tr style=\"text-align: right;\">\n",
       "      <th></th>\n",
       "      <th>ID</th>\n",
       "      <th>위치</th>\n",
       "      <th>대분류</th>\n",
       "      <th>소분류</th>\n",
       "      <th>가격</th>\n",
       "      <th>구입시기</th>\n",
       "      <th>구입 후 경과기간</th>\n",
       "    </tr>\n",
       "  </thead>\n",
       "  <tbody>\n",
       "    <tr>\n",
       "      <th>0</th>\n",
       "      <td>철수네</td>\n",
       "      <td>주방</td>\n",
       "      <td>김치</td>\n",
       "      <td>배추김치</td>\n",
       "      <td>5000</td>\n",
       "      <td>20180601</td>\n",
       "      <td>25</td>\n",
       "    </tr>\n",
       "    <tr>\n",
       "      <th>1</th>\n",
       "      <td>철수네</td>\n",
       "      <td>주방</td>\n",
       "      <td>김치</td>\n",
       "      <td>총각김치</td>\n",
       "      <td>3000</td>\n",
       "      <td>20180302</td>\n",
       "      <td>116</td>\n",
       "    </tr>\n",
       "    <tr>\n",
       "      <th>2</th>\n",
       "      <td>철수네</td>\n",
       "      <td>욕실</td>\n",
       "      <td>세제</td>\n",
       "      <td>총각김치</td>\n",
       "      <td>3000</td>\n",
       "      <td>20180302</td>\n",
       "      <td>116</td>\n",
       "    </tr>\n",
       "    <tr>\n",
       "      <th>3</th>\n",
       "      <td>영희네</td>\n",
       "      <td>주방</td>\n",
       "      <td>김치</td>\n",
       "      <td>배추김치</td>\n",
       "      <td>8000</td>\n",
       "      <td>20180515</td>\n",
       "      <td>42</td>\n",
       "    </tr>\n",
       "    <tr>\n",
       "      <th>4</th>\n",
       "      <td>철수네</td>\n",
       "      <td>베란다</td>\n",
       "      <td>세제</td>\n",
       "      <td>표백제</td>\n",
       "      <td>15000</td>\n",
       "      <td>20180101</td>\n",
       "      <td>176</td>\n",
       "    </tr>\n",
       "    <tr>\n",
       "      <th>5</th>\n",
       "      <td>맹구네</td>\n",
       "      <td>욕실</td>\n",
       "      <td>바디/헤어</td>\n",
       "      <td>샴푸</td>\n",
       "      <td>12000</td>\n",
       "      <td>20180501</td>\n",
       "      <td>56</td>\n",
       "    </tr>\n",
       "    <tr>\n",
       "      <th>6</th>\n",
       "      <td>효상이네</td>\n",
       "      <td>베란다</td>\n",
       "      <td>의류</td>\n",
       "      <td>양말</td>\n",
       "      <td>2000</td>\n",
       "      <td>20180411</td>\n",
       "      <td>76</td>\n",
       "    </tr>\n",
       "    <tr>\n",
       "      <th>7</th>\n",
       "      <td>정식이네</td>\n",
       "      <td>주방</td>\n",
       "      <td>한정식</td>\n",
       "      <td>햇반</td>\n",
       "      <td>1250</td>\n",
       "      <td>20180313</td>\n",
       "      <td>105</td>\n",
       "    </tr>\n",
       "  </tbody>\n",
       "</table>\n",
       "</div>"
      ],
      "text/plain": [
       "     ID   위치    대분류   소분류     가격      구입시기 구입 후 경과기간\n",
       "0   철수네   주방     김치  배추김치   5000  20180601        25\n",
       "1   철수네   주방     김치  총각김치   3000  20180302       116\n",
       "2   철수네   욕실     세제  총각김치   3000  20180302       116\n",
       "3   영희네   주방     김치  배추김치   8000  20180515        42\n",
       "4   철수네  베란다     세제   표백제  15000  20180101       176\n",
       "5   맹구네   욕실  바디/헤어    샴푸  12000  20180501        56\n",
       "6  효상이네  베란다     의류    양말   2000  20180411        76\n",
       "7  정식이네   주방    한정식    햇반   1250  20180313       105"
      ]
     },
     "execution_count": 18,
     "metadata": {},
     "output_type": "execute_result"
    }
   ],
   "source": [
    "#기존 데이터에 새로운 데이터 프레임 추가\n",
    "sumDF=pd.concat([data,newDataFix])\n",
    "sumDF"
   ]
  },
  {
   "cell_type": "code",
   "execution_count": 19,
   "metadata": {},
   "outputs": [],
   "source": [
    "#데이터 저장\n",
    "sumDF.to_csv(\"DataSet.csv\",sep=',')"
   ]
  },
  {
   "cell_type": "code",
   "execution_count": 20,
   "metadata": {},
   "outputs": [
    {
     "data": {
      "text/html": [
       "<div>\n",
       "<style scoped>\n",
       "    .dataframe tbody tr th:only-of-type {\n",
       "        vertical-align: middle;\n",
       "    }\n",
       "\n",
       "    .dataframe tbody tr th {\n",
       "        vertical-align: top;\n",
       "    }\n",
       "\n",
       "    .dataframe thead th {\n",
       "        text-align: right;\n",
       "    }\n",
       "</style>\n",
       "<table border=\"1\" class=\"dataframe\">\n",
       "  <thead>\n",
       "    <tr style=\"text-align: right;\">\n",
       "      <th></th>\n",
       "      <th>ID</th>\n",
       "      <th>위치</th>\n",
       "      <th>대분류</th>\n",
       "      <th>소분류</th>\n",
       "      <th>가격</th>\n",
       "      <th>구입시기</th>\n",
       "      <th>구입 후 경과기간</th>\n",
       "    </tr>\n",
       "  </thead>\n",
       "  <tbody>\n",
       "    <tr>\n",
       "      <th>0</th>\n",
       "      <td>철수네</td>\n",
       "      <td>주방</td>\n",
       "      <td>김치</td>\n",
       "      <td>배추김치</td>\n",
       "      <td>5000</td>\n",
       "      <td>20180601</td>\n",
       "      <td>25</td>\n",
       "    </tr>\n",
       "    <tr>\n",
       "      <th>1</th>\n",
       "      <td>철수네</td>\n",
       "      <td>주방</td>\n",
       "      <td>김치</td>\n",
       "      <td>총각김치</td>\n",
       "      <td>3000</td>\n",
       "      <td>20180302</td>\n",
       "      <td>116</td>\n",
       "    </tr>\n",
       "    <tr>\n",
       "      <th>2</th>\n",
       "      <td>철수네</td>\n",
       "      <td>욕실</td>\n",
       "      <td>세제</td>\n",
       "      <td>총각김치</td>\n",
       "      <td>3000</td>\n",
       "      <td>20180302</td>\n",
       "      <td>116</td>\n",
       "    </tr>\n",
       "    <tr>\n",
       "      <th>3</th>\n",
       "      <td>영희네</td>\n",
       "      <td>주방</td>\n",
       "      <td>김치</td>\n",
       "      <td>배추김치</td>\n",
       "      <td>8000</td>\n",
       "      <td>20180515</td>\n",
       "      <td>42</td>\n",
       "    </tr>\n",
       "    <tr>\n",
       "      <th>4</th>\n",
       "      <td>철수네</td>\n",
       "      <td>베란다</td>\n",
       "      <td>세제</td>\n",
       "      <td>표백제</td>\n",
       "      <td>15000</td>\n",
       "      <td>20180101</td>\n",
       "      <td>176</td>\n",
       "    </tr>\n",
       "    <tr>\n",
       "      <th>5</th>\n",
       "      <td>맹구네</td>\n",
       "      <td>욕실</td>\n",
       "      <td>바디/헤어</td>\n",
       "      <td>샴푸</td>\n",
       "      <td>12000</td>\n",
       "      <td>20180501</td>\n",
       "      <td>56</td>\n",
       "    </tr>\n",
       "    <tr>\n",
       "      <th>6</th>\n",
       "      <td>효상이네</td>\n",
       "      <td>베란다</td>\n",
       "      <td>의류</td>\n",
       "      <td>양말</td>\n",
       "      <td>2000</td>\n",
       "      <td>20180411</td>\n",
       "      <td>76</td>\n",
       "    </tr>\n",
       "    <tr>\n",
       "      <th>7</th>\n",
       "      <td>정식이네</td>\n",
       "      <td>주방</td>\n",
       "      <td>한정식</td>\n",
       "      <td>햇반</td>\n",
       "      <td>1250</td>\n",
       "      <td>20180313</td>\n",
       "      <td>105</td>\n",
       "    </tr>\n",
       "  </tbody>\n",
       "</table>\n",
       "</div>"
      ],
      "text/plain": [
       "     ID   위치    대분류   소분류     가격      구입시기  구입 후 경과기간\n",
       "0   철수네   주방     김치  배추김치   5000  20180601         25\n",
       "1   철수네   주방     김치  총각김치   3000  20180302        116\n",
       "2   철수네   욕실     세제  총각김치   3000  20180302        116\n",
       "3   영희네   주방     김치  배추김치   8000  20180515         42\n",
       "4   철수네  베란다     세제   표백제  15000  20180101        176\n",
       "5   맹구네   욕실  바디/헤어    샴푸  12000  20180501         56\n",
       "6  효상이네  베란다     의류    양말   2000  20180411         76\n",
       "7  정식이네   주방    한정식    햇반   1250  20180313        105"
      ]
     },
     "execution_count": 20,
     "metadata": {},
     "output_type": "execute_result"
    }
   ],
   "source": [
    "#데이터 불러오기\n",
    "data2=pd.read_csv(\"DataSet.csv\",sep=',',index_col=0)\n",
    "data2"
   ]
  },
  {
   "cell_type": "markdown",
   "metadata": {},
   "source": [
    "# 개선해야할 사항\n",
    "\n",
    "### 소분류에 따른 재구매에 대한 것을 입력하면 재구매 구입시기에 맞춰서 기존 구입했던 제품의 소모기간을 산출\n",
    "\n",
    "### 이 데이터를 DataFrame에 넣어서 그 기간에 대한 통계치 산출 후 DataFrame을 DB화 시킨다.\n",
    "\n",
    "### Item에 대해서 개개인이 직접입력하는 방식인데, 온라인 쇼핑몰을 참고하여 틀을 정해놓고 선택하도록 하는것이 어떤지"
   ]
  },
  {
   "cell_type": "markdown",
   "metadata": {},
   "source": []
  },
  {
   "cell_type": "markdown",
   "metadata": {},
   "source": []
  },
  {
   "cell_type": "markdown",
   "metadata": {},
   "source": []
  },
  {
   "cell_type": "markdown",
   "metadata": {},
   "source": [
    "### 이용자가 원하는 소분류의 평균을 구하는 임의의 방법"
   ]
  },
  {
   "cell_type": "code",
   "execution_count": 21,
   "metadata": {},
   "outputs": [
    {
     "name": "stdout",
     "output_type": "stream",
     "text": [
      "배추김치\n"
     ]
    }
   ],
   "source": [
    "wantMean=input()"
   ]
  },
  {
   "cell_type": "code",
   "execution_count": 22,
   "metadata": {
    "scrolled": true
   },
   "outputs": [
    {
     "data": {
      "text/plain": [
       "가격           6500.0\n",
       "구입 후 경과기간      33.5\n",
       "Name: 배추김치, dtype: float64"
      ]
     },
     "execution_count": 22,
     "metadata": {},
     "output_type": "execute_result"
    }
   ],
   "source": [
    "data2[[\"가격\",\"구입 후 경과기간\"]].groupby(data2[\"소분류\"]).mean().loc[wantMean]"
   ]
  },
  {
   "cell_type": "markdown",
   "metadata": {},
   "source": []
  },
  {
   "cell_type": "markdown",
   "metadata": {},
   "source": []
  },
  {
   "cell_type": "markdown",
   "metadata": {},
   "source": []
  },
  {
   "cell_type": "code",
   "execution_count": 23,
   "metadata": {},
   "outputs": [
    {
     "data": {
      "text/html": [
       "<div>\n",
       "<style scoped>\n",
       "    .dataframe tbody tr th:only-of-type {\n",
       "        vertical-align: middle;\n",
       "    }\n",
       "\n",
       "    .dataframe tbody tr th {\n",
       "        vertical-align: top;\n",
       "    }\n",
       "\n",
       "    .dataframe thead th {\n",
       "        text-align: right;\n",
       "    }\n",
       "</style>\n",
       "<table border=\"1\" class=\"dataframe\">\n",
       "  <thead>\n",
       "    <tr style=\"text-align: right;\">\n",
       "      <th></th>\n",
       "      <th>ID</th>\n",
       "      <th>소분류</th>\n",
       "      <th>가격</th>\n",
       "      <th>평균 소비기간</th>\n",
       "    </tr>\n",
       "  </thead>\n",
       "  <tbody>\n",
       "    <tr>\n",
       "      <th>0</th>\n",
       "      <td>철수네</td>\n",
       "      <td>배추김치</td>\n",
       "      <td>5000</td>\n",
       "      <td>38</td>\n",
       "    </tr>\n",
       "    <tr>\n",
       "      <th>1</th>\n",
       "      <td>철수네</td>\n",
       "      <td>배추김치</td>\n",
       "      <td>5500</td>\n",
       "      <td>33</td>\n",
       "    </tr>\n",
       "    <tr>\n",
       "      <th>2</th>\n",
       "      <td>철수네</td>\n",
       "      <td>배추김치</td>\n",
       "      <td>6000</td>\n",
       "      <td>30</td>\n",
       "    </tr>\n",
       "    <tr>\n",
       "      <th>3</th>\n",
       "      <td>철수네</td>\n",
       "      <td>배추김치</td>\n",
       "      <td>5300</td>\n",
       "      <td>32</td>\n",
       "    </tr>\n",
       "    <tr>\n",
       "      <th>4</th>\n",
       "      <td>영희네</td>\n",
       "      <td>배추김치</td>\n",
       "      <td>3800</td>\n",
       "      <td>22</td>\n",
       "    </tr>\n",
       "    <tr>\n",
       "      <th>5</th>\n",
       "      <td>영희네</td>\n",
       "      <td>배추김치</td>\n",
       "      <td>4400</td>\n",
       "      <td>28</td>\n",
       "    </tr>\n",
       "    <tr>\n",
       "      <th>6</th>\n",
       "      <td>영희네</td>\n",
       "      <td>배추김치</td>\n",
       "      <td>4100</td>\n",
       "      <td>28</td>\n",
       "    </tr>\n",
       "    <tr>\n",
       "      <th>7</th>\n",
       "      <td>영희네</td>\n",
       "      <td>배추김치</td>\n",
       "      <td>4900</td>\n",
       "      <td>30</td>\n",
       "    </tr>\n",
       "    <tr>\n",
       "      <th>8</th>\n",
       "      <td>영희네</td>\n",
       "      <td>배추김치</td>\n",
       "      <td>3500</td>\n",
       "      <td>39</td>\n",
       "    </tr>\n",
       "    <tr>\n",
       "      <th>9</th>\n",
       "      <td>철수네</td>\n",
       "      <td>배추김치</td>\n",
       "      <td>4800</td>\n",
       "      <td>32</td>\n",
       "    </tr>\n",
       "    <tr>\n",
       "      <th>10</th>\n",
       "      <td>철수네</td>\n",
       "      <td>배추김치</td>\n",
       "      <td>4800</td>\n",
       "      <td>36</td>\n",
       "    </tr>\n",
       "    <tr>\n",
       "      <th>11</th>\n",
       "      <td>철수네</td>\n",
       "      <td>배추김치</td>\n",
       "      <td>4300</td>\n",
       "      <td>43</td>\n",
       "    </tr>\n",
       "    <tr>\n",
       "      <th>12</th>\n",
       "      <td>철수네</td>\n",
       "      <td>배추김치</td>\n",
       "      <td>5600</td>\n",
       "      <td>22</td>\n",
       "    </tr>\n",
       "    <tr>\n",
       "      <th>13</th>\n",
       "      <td>철수네</td>\n",
       "      <td>배추김치</td>\n",
       "      <td>5800</td>\n",
       "      <td>27</td>\n",
       "    </tr>\n",
       "    <tr>\n",
       "      <th>14</th>\n",
       "      <td>철수네</td>\n",
       "      <td>배추김치</td>\n",
       "      <td>6600</td>\n",
       "      <td>40</td>\n",
       "    </tr>\n",
       "    <tr>\n",
       "      <th>15</th>\n",
       "      <td>철수네</td>\n",
       "      <td>배추김치</td>\n",
       "      <td>4000</td>\n",
       "      <td>40</td>\n",
       "    </tr>\n",
       "    <tr>\n",
       "      <th>16</th>\n",
       "      <td>철수네</td>\n",
       "      <td>배추김치</td>\n",
       "      <td>4900</td>\n",
       "      <td>38</td>\n",
       "    </tr>\n",
       "  </tbody>\n",
       "</table>\n",
       "</div>"
      ],
      "text/plain": [
       "     ID   소분류    가격  평균 소비기간\n",
       "0   철수네  배추김치  5000       38\n",
       "1   철수네  배추김치  5500       33\n",
       "2   철수네  배추김치  6000       30\n",
       "3   철수네  배추김치  5300       32\n",
       "4   영희네  배추김치  3800       22\n",
       "5   영희네  배추김치  4400       28\n",
       "6   영희네  배추김치  4100       28\n",
       "7   영희네  배추김치  4900       30\n",
       "8   영희네  배추김치  3500       39\n",
       "9   철수네  배추김치  4800       32\n",
       "10  철수네  배추김치  4800       36\n",
       "11  철수네  배추김치  4300       43\n",
       "12  철수네  배추김치  5600       22\n",
       "13  철수네  배추김치  5800       27\n",
       "14  철수네  배추김치  6600       40\n",
       "15  철수네  배추김치  4000       40\n",
       "16  철수네  배추김치  4900       38"
      ]
     },
     "execution_count": 23,
     "metadata": {},
     "output_type": "execute_result"
    }
   ],
   "source": [
    "#분석용 임의 데이터 불러오기\n",
    "dataSet=pd.read_csv(\"DF.csv\",sep=',',index_col=0)\n",
    "dataSet"
   ]
  },
  {
   "cell_type": "code",
   "execution_count": 24,
   "metadata": {},
   "outputs": [
    {
     "data": {
      "text/plain": [
       "가격         4900.000000\n",
       "평균 소비기간      32.823529\n",
       "dtype: float64"
      ]
     },
     "execution_count": 24,
     "metadata": {},
     "output_type": "execute_result"
    }
   ],
   "source": [
    "dataS=dataSet.mean()\n",
    "dataS"
   ]
  },
  {
   "cell_type": "code",
   "execution_count": 25,
   "metadata": {},
   "outputs": [
    {
     "data": {
      "text/html": [
       "<div>\n",
       "<style scoped>\n",
       "    .dataframe tbody tr th:only-of-type {\n",
       "        vertical-align: middle;\n",
       "    }\n",
       "\n",
       "    .dataframe tbody tr th {\n",
       "        vertical-align: top;\n",
       "    }\n",
       "\n",
       "    .dataframe thead th {\n",
       "        text-align: right;\n",
       "    }\n",
       "</style>\n",
       "<table border=\"1\" class=\"dataframe\">\n",
       "  <thead>\n",
       "    <tr style=\"text-align: right;\">\n",
       "      <th></th>\n",
       "      <th>가격</th>\n",
       "      <th>평균 소비기간</th>\n",
       "    </tr>\n",
       "    <tr>\n",
       "      <th>ID</th>\n",
       "      <th></th>\n",
       "      <th></th>\n",
       "    </tr>\n",
       "  </thead>\n",
       "  <tbody>\n",
       "    <tr>\n",
       "      <th>영희네</th>\n",
       "      <td>4140.000000</td>\n",
       "      <td>29.40</td>\n",
       "    </tr>\n",
       "    <tr>\n",
       "      <th>철수네</th>\n",
       "      <td>5216.666667</td>\n",
       "      <td>34.25</td>\n",
       "    </tr>\n",
       "  </tbody>\n",
       "</table>\n",
       "</div>"
      ],
      "text/plain": [
       "              가격  평균 소비기간\n",
       "ID                       \n",
       "영희네  4140.000000    29.40\n",
       "철수네  5216.666667    34.25"
      ]
     },
     "execution_count": 25,
     "metadata": {},
     "output_type": "execute_result"
    }
   ],
   "source": [
    "pri=dataSet.groupby(\"ID\").mean().astype(float)\n",
    "pri"
   ]
  },
  {
   "cell_type": "code",
   "execution_count": 26,
   "metadata": {},
   "outputs": [
    {
     "data": {
      "text/html": [
       "<div>\n",
       "<style scoped>\n",
       "    .dataframe tbody tr th:only-of-type {\n",
       "        vertical-align: middle;\n",
       "    }\n",
       "\n",
       "    .dataframe tbody tr th {\n",
       "        vertical-align: top;\n",
       "    }\n",
       "\n",
       "    .dataframe thead th {\n",
       "        text-align: right;\n",
       "    }\n",
       "</style>\n",
       "<table border=\"1\" class=\"dataframe\">\n",
       "  <thead>\n",
       "    <tr style=\"text-align: right;\">\n",
       "      <th></th>\n",
       "      <th>가격</th>\n",
       "      <th>평균 소비기간</th>\n",
       "    </tr>\n",
       "    <tr>\n",
       "      <th>ID</th>\n",
       "      <th></th>\n",
       "      <th></th>\n",
       "    </tr>\n",
       "  </thead>\n",
       "  <tbody>\n",
       "    <tr>\n",
       "      <th>영희네</th>\n",
       "      <td>4140.000000</td>\n",
       "      <td>29.400000</td>\n",
       "    </tr>\n",
       "    <tr>\n",
       "      <th>철수네</th>\n",
       "      <td>5216.666667</td>\n",
       "      <td>34.250000</td>\n",
       "    </tr>\n",
       "    <tr>\n",
       "      <th>평균</th>\n",
       "      <td>4900.000000</td>\n",
       "      <td>32.823529</td>\n",
       "    </tr>\n",
       "  </tbody>\n",
       "</table>\n",
       "</div>"
      ],
      "text/plain": [
       "              가격    평균 소비기간\n",
       "ID                         \n",
       "영희네  4140.000000  29.400000\n",
       "철수네  5216.666667  34.250000\n",
       "평균   4900.000000  32.823529"
      ]
     },
     "execution_count": 26,
     "metadata": {},
     "output_type": "execute_result"
    }
   ],
   "source": [
    "pri.loc['평균']=dataS\n",
    "pri"
   ]
  },
  {
   "cell_type": "code",
   "execution_count": null,
   "metadata": {},
   "outputs": [],
   "source": []
  },
  {
   "cell_type": "code",
   "execution_count": 27,
   "metadata": {},
   "outputs": [],
   "source": [
    "import matplotlib.pyplot as plt\n",
    "import matplotlib\n",
    "matplotlib.rc('font',family='Malgun Gothic')"
   ]
  },
  {
   "cell_type": "code",
   "execution_count": 28,
   "metadata": {},
   "outputs": [
    {
     "data": {
      "text/plain": [
       "<matplotlib.axes._subplots.AxesSubplot at 0x90f9ac8>"
      ]
     },
     "execution_count": 28,
     "metadata": {},
     "output_type": "execute_result"
    },
    {
     "data": {
      "image/png": "[encoded data removed]",
      "text/plain": [
       "<matplotlib.figure.Figure at 0x90f94a8>"
      ]
     },
     "metadata": {},
     "output_type": "display_data"
    }
   ],
   "source": [
    "pri['평균 소비기간'].plot(kind='bar')"
   ]
  },
  {
   "cell_type": "code",
   "execution_count": 29,
   "metadata": {},
   "outputs": [
    {
     "data": {
      "text/plain": [
       "<matplotlib.axes._subplots.AxesSubplot at 0x88dbda0>"
      ]
     },
     "execution_count": 29,
     "metadata": {},
     "output_type": "execute_result"
    },
    {
     "data": {
      "image/png": "[encoded data removed]",
      "text/plain": [
       "<matplotlib.figure.Figure at 0x923e438>"
      ]
     },
     "metadata": {},
     "output_type": "display_data"
    }
   ],
   "source": [
    "pri['가격'].plot(kind='bar')"
   ]
  },
  {
   "cell_type": "markdown",
   "metadata": {},
   "source": [
    "# 개선해야할 사항\n",
    "\n",
    "적절한 상품을 제공해주는 사업성을 갖고 싶었는데,\n",
    "품질이나 맛 가격 어떤 초점에 맞춰서 고객에게 맞춤 상품을 제공할지에 대한 문제가 있다.\n",
    "\n",
    "자유롭게 입력하다 보니 데이터가 지저분해질 수 있어서 이에 따른 대비가 필요하다."
   ]
  }
 ],
 "metadata": {
  "kernelspec": {
   "display_name": "Python 3",
   "language": "python",
   "name": "python3"
  },
  "language_info": {
   "codemirror_mode": {
    "name": "ipython",
    "version": 3
   },
   "file_extension": ".py",
   "mimetype": "text/x-python",
   "name": "python",
   "nbconvert_exporter": "python",
   "pygments_lexer": "ipython3",
   "version": "3.6.4"
  }
 },
 "nbformat": 4,
 "nbformat_minor": 2
}
